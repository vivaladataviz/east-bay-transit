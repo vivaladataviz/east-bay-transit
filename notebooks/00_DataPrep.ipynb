{
 "cells": [
  {
   "cell_type": "markdown",
   "metadata": {},
   "source": [
    "# East Bay Transit data project\n",
    "#### A project exploring East Bay public transit using publicly available data from AC Transit, BART, and the census.\n",
    "\n",
    "#### Goal\n",
    "The goal of this notebook is to create the Bay Area census tracts shapefile\n",
    "\n",
    "#### Context\n",
    "Using IPUMS NHGIS we got some preliminary interesting statistics for census tracts. These, however, span the whole US. We also go a shapefile with the 2018 census tracts for the whole US. Since our analysis only covers the Bay Area we need to create a subset of these datasets."
   ]
  },
  {
   "cell_type": "code",
   "execution_count": 1,
   "metadata": {},
   "outputs": [
    {
     "data": {
      "text/plain": [
       "'14-May-20'"
      ]
     },
     "execution_count": 1,
     "metadata": {},
     "output_type": "execute_result"
    }
   ],
   "source": [
    "import pandas as pd\n",
    "import geopandas as gpd\n",
    "from zipfile import ZipFile\n",
    "from pathlib import Path\n",
    "from tools import tree\n",
    "from datetime import datetime as dt\n",
    "today = dt.today().strftime(\"%d-%b-%y\")\n",
    "\n",
    "today"
   ]
  },
  {
   "cell_type": "code",
   "execution_count": 2,
   "metadata": {},
   "outputs": [],
   "source": [
    "RAW_DATA = Path(\"../data/raw/\")\n",
    "INTERIM_DATA = Path(\"../data/interim/\")\n",
    "PROCESSED_DATA = Path(\"../data/processed/\")\n",
    "EXTERNAL_DATA = Path(\"../data/external/\")"
   ]
  },
  {
   "cell_type": "code",
   "execution_count": 3,
   "metadata": {},
   "outputs": [
    {
     "name": "stdout",
     "output_type": "stream",
     "text": [
      "+ ../data/external\n",
      "    + UniqueStops_Winter19.zip\n",
      "    + Winter19Routeshape.zip\n",
      "    + nhgis0008_csv.zip\n",
      "    + nhgis0008_shape.zip\n"
     ]
    }
   ],
   "source": [
    "tree(EXTERNAL_DATA)"
   ]
  },
  {
   "cell_type": "code",
   "execution_count": 4,
   "metadata": {},
   "outputs": [],
   "source": [
    "ZipFile(EXTERNAL_DATA / 'nhgis0008_csv.zip').extractall(INTERIM_DATA)"
   ]
  },
  {
   "cell_type": "code",
   "execution_count": 5,
   "metadata": {},
   "outputs": [],
   "source": [
    "ZipFile(EXTERNAL_DATA / 'nhgis0008_shape.zip').extractall(INTERIM_DATA)"
   ]
  },
  {
   "cell_type": "code",
   "execution_count": 6,
   "metadata": {},
   "outputs": [
    {
     "name": "stdout",
     "output_type": "stream",
     "text": [
      "+ ../data/interim\n",
      "    + nhgis0008_csv\n",
      "            + nhgis0008_ds239_20185_2018_tract_codebook-checkpoint.txt\n",
      "        + nhgis0008_ds239_20185_2018_tract.csv\n",
      "        + nhgis0008_ds239_20185_2018_tract_codebook.txt\n",
      "    + nhgis0008_shape\n",
      "        + nhgis0008_shapefile_tl2018_us_tract_2018.zip\n"
     ]
    }
   ],
   "source": [
    "tree(INTERIM_DATA)"
   ]
  },
  {
   "cell_type": "code",
   "execution_count": 7,
   "metadata": {},
   "outputs": [],
   "source": [
    "data = pd.read_csv(INTERIM_DATA / 'nhgis0008_csv' / 'nhgis0008_ds239_20185_2018_tract.csv', encoding = 'latin1')"
   ]
  },
  {
   "cell_type": "code",
   "execution_count": 8,
   "metadata": {},
   "outputs": [
    {
     "data": {
      "text/html": [
       "<div>\n",
       "<style scoped>\n",
       "    .dataframe tbody tr th:only-of-type {\n",
       "        vertical-align: middle;\n",
       "    }\n",
       "\n",
       "    .dataframe tbody tr th {\n",
       "        vertical-align: top;\n",
       "    }\n",
       "\n",
       "    .dataframe thead th {\n",
       "        text-align: right;\n",
       "    }\n",
       "</style>\n",
       "<table border=\"1\" class=\"dataframe\">\n",
       "  <thead>\n",
       "    <tr style=\"text-align: right;\">\n",
       "      <th></th>\n",
       "      <th>0</th>\n",
       "      <th>1</th>\n",
       "      <th>2</th>\n",
       "      <th>3</th>\n",
       "      <th>4</th>\n",
       "    </tr>\n",
       "  </thead>\n",
       "  <tbody>\n",
       "    <tr>\n",
       "      <th>GISJOIN</th>\n",
       "      <td>G0100010020100</td>\n",
       "      <td>G0100010020200</td>\n",
       "      <td>G0100010020300</td>\n",
       "      <td>G0100010020400</td>\n",
       "      <td>G0100010020500</td>\n",
       "    </tr>\n",
       "    <tr>\n",
       "      <th>YEAR</th>\n",
       "      <td>2014-2018</td>\n",
       "      <td>2014-2018</td>\n",
       "      <td>2014-2018</td>\n",
       "      <td>2014-2018</td>\n",
       "      <td>2014-2018</td>\n",
       "    </tr>\n",
       "    <tr>\n",
       "      <th>REGIONA</th>\n",
       "      <td>NaN</td>\n",
       "      <td>NaN</td>\n",
       "      <td>NaN</td>\n",
       "      <td>NaN</td>\n",
       "      <td>NaN</td>\n",
       "    </tr>\n",
       "    <tr>\n",
       "      <th>DIVISIONA</th>\n",
       "      <td>NaN</td>\n",
       "      <td>NaN</td>\n",
       "      <td>NaN</td>\n",
       "      <td>NaN</td>\n",
       "      <td>NaN</td>\n",
       "    </tr>\n",
       "    <tr>\n",
       "      <th>STATE</th>\n",
       "      <td>Alabama</td>\n",
       "      <td>Alabama</td>\n",
       "      <td>Alabama</td>\n",
       "      <td>Alabama</td>\n",
       "      <td>Alabama</td>\n",
       "    </tr>\n",
       "    <tr>\n",
       "      <th>...</th>\n",
       "      <td>...</td>\n",
       "      <td>...</td>\n",
       "      <td>...</td>\n",
       "      <td>...</td>\n",
       "      <td>...</td>\n",
       "    </tr>\n",
       "    <tr>\n",
       "      <th>AJX6M015</th>\n",
       "      <td>10</td>\n",
       "      <td>27</td>\n",
       "      <td>28</td>\n",
       "      <td>27</td>\n",
       "      <td>97</td>\n",
       "    </tr>\n",
       "    <tr>\n",
       "      <th>AJX6M016</th>\n",
       "      <td>36</td>\n",
       "      <td>38</td>\n",
       "      <td>18</td>\n",
       "      <td>32</td>\n",
       "      <td>119</td>\n",
       "    </tr>\n",
       "    <tr>\n",
       "      <th>AJX6M017</th>\n",
       "      <td>61</td>\n",
       "      <td>83</td>\n",
       "      <td>113</td>\n",
       "      <td>113</td>\n",
       "      <td>266</td>\n",
       "    </tr>\n",
       "    <tr>\n",
       "      <th>AJX6M018</th>\n",
       "      <td>45</td>\n",
       "      <td>66</td>\n",
       "      <td>94</td>\n",
       "      <td>75</td>\n",
       "      <td>202</td>\n",
       "    </tr>\n",
       "    <tr>\n",
       "      <th>AJX6M019</th>\n",
       "      <td>42</td>\n",
       "      <td>57</td>\n",
       "      <td>96</td>\n",
       "      <td>91</td>\n",
       "      <td>194</td>\n",
       "    </tr>\n",
       "  </tbody>\n",
       "</table>\n",
       "<p>518 rows × 5 columns</p>\n",
       "</div>"
      ],
      "text/plain": [
       "                        0               1               2               3  \\\n",
       "GISJOIN    G0100010020100  G0100010020200  G0100010020300  G0100010020400   \n",
       "YEAR            2014-2018       2014-2018       2014-2018       2014-2018   \n",
       "REGIONA               NaN             NaN             NaN             NaN   \n",
       "DIVISIONA             NaN             NaN             NaN             NaN   \n",
       "STATE             Alabama         Alabama         Alabama         Alabama   \n",
       "...                   ...             ...             ...             ...   \n",
       "AJX6M015               10              27              28              27   \n",
       "AJX6M016               36              38              18              32   \n",
       "AJX6M017               61              83             113             113   \n",
       "AJX6M018               45              66              94              75   \n",
       "AJX6M019               42              57              96              91   \n",
       "\n",
       "                        4  \n",
       "GISJOIN    G0100010020500  \n",
       "YEAR            2014-2018  \n",
       "REGIONA               NaN  \n",
       "DIVISIONA             NaN  \n",
       "STATE             Alabama  \n",
       "...                   ...  \n",
       "AJX6M015               97  \n",
       "AJX6M016              119  \n",
       "AJX6M017              266  \n",
       "AJX6M018              202  \n",
       "AJX6M019              194  \n",
       "\n",
       "[518 rows x 5 columns]"
      ]
     },
     "execution_count": 8,
     "metadata": {},
     "output_type": "execute_result"
    }
   ],
   "source": [
    "data.head().T"
   ]
  },
  {
   "cell_type": "code",
   "execution_count": 9,
   "metadata": {},
   "outputs": [],
   "source": [
    "zip_shape_file = \"zip:///\" + str(INTERIM_DATA.absolute().resolve() / 'nhgis0008_shape' / 'nhgis0008_shapefile_tl2018_us_tract_2018.zip')"
   ]
  },
  {
   "cell_type": "code",
   "execution_count": 10,
   "metadata": {},
   "outputs": [],
   "source": [
    "shapes = gpd.read_file(zip_shape_file)"
   ]
  },
  {
   "cell_type": "code",
   "execution_count": 11,
   "metadata": {},
   "outputs": [
    {
     "data": {
      "text/plain": [
       "(73666, 16)"
      ]
     },
     "execution_count": 11,
     "metadata": {},
     "output_type": "execute_result"
    }
   ],
   "source": [
    "shapes.shape"
   ]
  },
  {
   "cell_type": "code",
   "execution_count": 12,
   "metadata": {},
   "outputs": [
    {
     "data": {
      "text/html": [
       "<div>\n",
       "<style scoped>\n",
       "    .dataframe tbody tr th:only-of-type {\n",
       "        vertical-align: middle;\n",
       "    }\n",
       "\n",
       "    .dataframe tbody tr th {\n",
       "        vertical-align: top;\n",
       "    }\n",
       "\n",
       "    .dataframe thead th {\n",
       "        text-align: right;\n",
       "    }\n",
       "</style>\n",
       "<table border=\"1\" class=\"dataframe\">\n",
       "  <thead>\n",
       "    <tr style=\"text-align: right;\">\n",
       "      <th></th>\n",
       "      <th>GISJOIN</th>\n",
       "      <th>STATEFP</th>\n",
       "      <th>COUNTYFP</th>\n",
       "      <th>TRACTCE</th>\n",
       "      <th>GEOID</th>\n",
       "      <th>NAME</th>\n",
       "      <th>NAMELSAD</th>\n",
       "      <th>MTFCC</th>\n",
       "      <th>FUNCSTAT</th>\n",
       "      <th>ALAND</th>\n",
       "      <th>AWATER</th>\n",
       "      <th>INTPTLAT</th>\n",
       "      <th>INTPTLON</th>\n",
       "      <th>Shape_Leng</th>\n",
       "      <th>Shape_Area</th>\n",
       "      <th>geometry</th>\n",
       "    </tr>\n",
       "  </thead>\n",
       "  <tbody>\n",
       "    <tr>\n",
       "      <th>0</th>\n",
       "      <td>G0100010020100</td>\n",
       "      <td>01</td>\n",
       "      <td>001</td>\n",
       "      <td>020100</td>\n",
       "      <td>01001020100</td>\n",
       "      <td>201</td>\n",
       "      <td>Census Tract 201</td>\n",
       "      <td>G5020</td>\n",
       "      <td>S</td>\n",
       "      <td>9817813.0</td>\n",
       "      <td>28435.0</td>\n",
       "      <td>+32.4819591</td>\n",
       "      <td>-086.4913377</td>\n",
       "      <td>16193.868956</td>\n",
       "      <td>9.846249e+06</td>\n",
       "      <td>POLYGON ((888437.995 -515917.537, 888435.804 -...</td>\n",
       "    </tr>\n",
       "    <tr>\n",
       "      <th>1</th>\n",
       "      <td>G0100010020200</td>\n",
       "      <td>01</td>\n",
       "      <td>001</td>\n",
       "      <td>020200</td>\n",
       "      <td>01001020200</td>\n",
       "      <td>202</td>\n",
       "      <td>Census Tract 202</td>\n",
       "      <td>G5020</td>\n",
       "      <td>S</td>\n",
       "      <td>3325679.0</td>\n",
       "      <td>5669.0</td>\n",
       "      <td>+32.4757580</td>\n",
       "      <td>-086.4724678</td>\n",
       "      <td>9829.609817</td>\n",
       "      <td>3.331344e+06</td>\n",
       "      <td>POLYGON ((889844.072 -519142.061, 889844.876 -...</td>\n",
       "    </tr>\n",
       "    <tr>\n",
       "      <th>2</th>\n",
       "      <td>G0100010020300</td>\n",
       "      <td>01</td>\n",
       "      <td>001</td>\n",
       "      <td>020300</td>\n",
       "      <td>01001020300</td>\n",
       "      <td>203</td>\n",
       "      <td>Census Tract 203</td>\n",
       "      <td>G5020</td>\n",
       "      <td>S</td>\n",
       "      <td>5349273.0</td>\n",
       "      <td>9054.0</td>\n",
       "      <td>+32.4740243</td>\n",
       "      <td>-086.4597033</td>\n",
       "      <td>10519.640477</td>\n",
       "      <td>5.358329e+06</td>\n",
       "      <td>POLYGON ((891383.841 -518871.184, 891367.251 -...</td>\n",
       "    </tr>\n",
       "    <tr>\n",
       "      <th>3</th>\n",
       "      <td>G0100010020400</td>\n",
       "      <td>01</td>\n",
       "      <td>001</td>\n",
       "      <td>020400</td>\n",
       "      <td>01001020400</td>\n",
       "      <td>204</td>\n",
       "      <td>Census Tract 204</td>\n",
       "      <td>G5020</td>\n",
       "      <td>S</td>\n",
       "      <td>6384276.0</td>\n",
       "      <td>8408.0</td>\n",
       "      <td>+32.4710304</td>\n",
       "      <td>-086.4448353</td>\n",
       "      <td>12521.196108</td>\n",
       "      <td>6.392680e+06</td>\n",
       "      <td>POLYGON ((892527.268 -516528.670, 892531.715 -...</td>\n",
       "    </tr>\n",
       "    <tr>\n",
       "      <th>4</th>\n",
       "      <td>G0100010020500</td>\n",
       "      <td>01</td>\n",
       "      <td>001</td>\n",
       "      <td>020500</td>\n",
       "      <td>01001020500</td>\n",
       "      <td>205</td>\n",
       "      <td>Census Tract 205</td>\n",
       "      <td>G5020</td>\n",
       "      <td>S</td>\n",
       "      <td>11408869.0</td>\n",
       "      <td>43534.0</td>\n",
       "      <td>+32.4589224</td>\n",
       "      <td>-086.4218265</td>\n",
       "      <td>17133.746862</td>\n",
       "      <td>1.145240e+07</td>\n",
       "      <td>POLYGON ((895450.953 -522533.363, 895428.322 -...</td>\n",
       "    </tr>\n",
       "  </tbody>\n",
       "</table>\n",
       "</div>"
      ],
      "text/plain": [
       "          GISJOIN STATEFP COUNTYFP TRACTCE        GEOID NAME  \\\n",
       "0  G0100010020100      01      001  020100  01001020100  201   \n",
       "1  G0100010020200      01      001  020200  01001020200  202   \n",
       "2  G0100010020300      01      001  020300  01001020300  203   \n",
       "3  G0100010020400      01      001  020400  01001020400  204   \n",
       "4  G0100010020500      01      001  020500  01001020500  205   \n",
       "\n",
       "           NAMELSAD  MTFCC FUNCSTAT       ALAND   AWATER     INTPTLAT  \\\n",
       "0  Census Tract 201  G5020        S   9817813.0  28435.0  +32.4819591   \n",
       "1  Census Tract 202  G5020        S   3325679.0   5669.0  +32.4757580   \n",
       "2  Census Tract 203  G5020        S   5349273.0   9054.0  +32.4740243   \n",
       "3  Census Tract 204  G5020        S   6384276.0   8408.0  +32.4710304   \n",
       "4  Census Tract 205  G5020        S  11408869.0  43534.0  +32.4589224   \n",
       "\n",
       "       INTPTLON    Shape_Leng    Shape_Area  \\\n",
       "0  -086.4913377  16193.868956  9.846249e+06   \n",
       "1  -086.4724678   9829.609817  3.331344e+06   \n",
       "2  -086.4597033  10519.640477  5.358329e+06   \n",
       "3  -086.4448353  12521.196108  6.392680e+06   \n",
       "4  -086.4218265  17133.746862  1.145240e+07   \n",
       "\n",
       "                                            geometry  \n",
       "0  POLYGON ((888437.995 -515917.537, 888435.804 -...  \n",
       "1  POLYGON ((889844.072 -519142.061, 889844.876 -...  \n",
       "2  POLYGON ((891383.841 -518871.184, 891367.251 -...  \n",
       "3  POLYGON ((892527.268 -516528.670, 892531.715 -...  \n",
       "4  POLYGON ((895450.953 -522533.363, 895428.322 -...  "
      ]
     },
     "execution_count": 12,
     "metadata": {},
     "output_type": "execute_result"
    }
   ],
   "source": [
    "shapes.head()"
   ]
  },
  {
   "cell_type": "code",
   "execution_count": 13,
   "metadata": {},
   "outputs": [],
   "source": [
    "mask_california = shapes['STATEFP'] == \"06\""
   ]
  },
  {
   "cell_type": "code",
   "execution_count": 14,
   "metadata": {},
   "outputs": [
    {
     "data": {
      "text/plain": [
       "(8038, 16)"
      ]
     },
     "execution_count": 14,
     "metadata": {},
     "output_type": "execute_result"
    }
   ],
   "source": [
    "shapes[mask_california].shape"
   ]
  },
  {
   "cell_type": "markdown",
   "metadata": {},
   "source": [
    "\"Officially\" the Bay Area is composed by 9 counties:\n",
    "\n",
    "|     County    |  FIPS  | \n",
    "|:-------------:|:------:|\n",
    "|    Alameda    |   001  |\n",
    "|  Contra Costa |   013  |\n",
    "|     Marin     |   041  |\n",
    "|     Napa      |   055  |\n",
    "| San Francisco |   075  |\n",
    "|   San Mateo   |   081  |\n",
    "|  Santa Clara  |   085  |\n",
    "|    Solano     |   095  |\n",
    "|    Sonoma     |   097  |"
   ]
  },
  {
   "cell_type": "code",
   "execution_count": 15,
   "metadata": {},
   "outputs": [],
   "source": [
    "bay_area_FIPS = ['001', '013', '041', '055', '075', '081', '085', '095', '097']\n",
    "ac_transit_counties = ['001', '013']\n",
    "mask_bayarea = shapes['COUNTYFP'].isin(bay_area_FIPS)\n",
    "mask_actransit = shapes['COUNTYFP'].isin(ac_transit_counties)"
   ]
  },
  {
   "cell_type": "code",
   "execution_count": 16,
   "metadata": {},
   "outputs": [
    {
     "data": {
      "text/plain": [
       "(1582, 16)"
      ]
     },
     "execution_count": 16,
     "metadata": {},
     "output_type": "execute_result"
    }
   ],
   "source": [
    "shapes[mask_california & mask_bayarea].shape"
   ]
  },
  {
   "cell_type": "code",
   "execution_count": 17,
   "metadata": {},
   "outputs": [],
   "source": [
    "bay_area_tracts = shapes[mask_california & mask_bayarea].copy()"
   ]
  },
  {
   "cell_type": "code",
   "execution_count": 18,
   "metadata": {},
   "outputs": [
    {
     "data": {
      "image/png": "[encoded data removed]",
      "text/plain": [
       "<Figure size 432x288 with 1 Axes>"
      ]
     },
     "metadata": {
      "needs_background": "light"
     },
     "output_type": "display_data"
    }
   ],
   "source": [
    "bay_area_tracts.plot();"
   ]
  },
  {
   "cell_type": "code",
   "execution_count": 19,
   "metadata": {},
   "outputs": [
    {
     "data": {
      "image/png": "[encoded data removed]",
      "text/plain": [
       "<Figure size 432x288 with 1 Axes>"
      ]
     },
     "metadata": {
      "needs_background": "light"
     },
     "output_type": "display_data"
    }
   ],
   "source": [
    "shapes[mask_california & mask_actransit].plot();"
   ]
  },
  {
   "cell_type": "code",
   "execution_count": 20,
   "metadata": {},
   "outputs": [
    {
     "data": {
      "text/plain": [
       "<Projected CRS: ESRI:102003>\n",
       "Name: USA_Contiguous_Albers_Equal_Area_Conic\n",
       "Axis Info [cartesian]:\n",
       "- [east]: Easting (metre)\n",
       "- [north]: Northing (metre)\n",
       "Area of Use:\n",
       "- undefined\n",
       "Coordinate Operation:\n",
       "- name: unnamed\n",
       "- method: Albers Equal Area\n",
       "Datum: North American Datum 1983\n",
       "- Ellipsoid: GRS 1980\n",
       "- Prime Meridian: Greenwich"
      ]
     },
     "execution_count": 20,
     "metadata": {},
     "output_type": "execute_result"
    }
   ],
   "source": [
    "bay_area_tracts.crs"
   ]
  },
  {
   "cell_type": "code",
   "execution_count": 21,
   "metadata": {},
   "outputs": [],
   "source": [
    "# to match stop/routes crs\n",
    "bay_area_tracts = bay_area_tracts.to_crs(epsg = 4326)"
   ]
  },
  {
   "cell_type": "code",
   "execution_count": 22,
   "metadata": {},
   "outputs": [
    {
     "data": {
      "text/plain": [
       "<Geographic 2D CRS: EPSG:4326>\n",
       "Name: WGS 84\n",
       "Axis Info [ellipsoidal]:\n",
       "- Lat[north]: Geodetic latitude (degree)\n",
       "- Lon[east]: Geodetic longitude (degree)\n",
       "Area of Use:\n",
       "- name: World\n",
       "- bounds: (-180.0, -90.0, 180.0, 90.0)\n",
       "Datum: World Geodetic System 1984\n",
       "- Ellipsoid: WGS 84\n",
       "- Prime Meridian: Greenwich"
      ]
     },
     "execution_count": 22,
     "metadata": {},
     "output_type": "execute_result"
    }
   ],
   "source": [
    "bay_area_tracts.crs"
   ]
  },
  {
   "cell_type": "code",
   "execution_count": 23,
   "metadata": {},
   "outputs": [
    {
     "data": {
      "text/html": [
       "<div>\n",
       "<style scoped>\n",
       "    .dataframe tbody tr th:only-of-type {\n",
       "        vertical-align: middle;\n",
       "    }\n",
       "\n",
       "    .dataframe tbody tr th {\n",
       "        vertical-align: top;\n",
       "    }\n",
       "\n",
       "    .dataframe thead th {\n",
       "        text-align: right;\n",
       "    }\n",
       "</style>\n",
       "<table border=\"1\" class=\"dataframe\">\n",
       "  <thead>\n",
       "    <tr style=\"text-align: right;\">\n",
       "      <th></th>\n",
       "      <th>GISJOIN</th>\n",
       "      <th>STATEFP</th>\n",
       "      <th>COUNTYFP</th>\n",
       "      <th>TRACTCE</th>\n",
       "      <th>GEOID</th>\n",
       "      <th>NAME</th>\n",
       "      <th>NAMELSAD</th>\n",
       "      <th>MTFCC</th>\n",
       "      <th>FUNCSTAT</th>\n",
       "      <th>ALAND</th>\n",
       "      <th>AWATER</th>\n",
       "      <th>INTPTLAT</th>\n",
       "      <th>INTPTLON</th>\n",
       "      <th>Shape_Leng</th>\n",
       "      <th>Shape_Area</th>\n",
       "      <th>geometry</th>\n",
       "    </tr>\n",
       "  </thead>\n",
       "  <tbody>\n",
       "    <tr>\n",
       "      <th>3558</th>\n",
       "      <td>G0600010400100</td>\n",
       "      <td>06</td>\n",
       "      <td>001</td>\n",
       "      <td>400100</td>\n",
       "      <td>06001400100</td>\n",
       "      <td>4001</td>\n",
       "      <td>Census Tract 4001</td>\n",
       "      <td>G5020</td>\n",
       "      <td>S</td>\n",
       "      <td>6894340.0</td>\n",
       "      <td>0.0</td>\n",
       "      <td>+37.8676275</td>\n",
       "      <td>-122.2319460</td>\n",
       "      <td>14302.720874</td>\n",
       "      <td>6.894336e+06</td>\n",
       "      <td>POLYGON ((-122.21320 37.85760, -122.21313 37.8...</td>\n",
       "    </tr>\n",
       "    <tr>\n",
       "      <th>3559</th>\n",
       "      <td>G0600010400200</td>\n",
       "      <td>06</td>\n",
       "      <td>001</td>\n",
       "      <td>400200</td>\n",
       "      <td>06001400200</td>\n",
       "      <td>4002</td>\n",
       "      <td>Census Tract 4002</td>\n",
       "      <td>G5020</td>\n",
       "      <td>S</td>\n",
       "      <td>586561.0</td>\n",
       "      <td>0.0</td>\n",
       "      <td>+37.8481378</td>\n",
       "      <td>-122.2495916</td>\n",
       "      <td>3990.699597</td>\n",
       "      <td>5.865614e+05</td>\n",
       "      <td>POLYGON ((-122.24191 37.85191, -122.24191 37.8...</td>\n",
       "    </tr>\n",
       "    <tr>\n",
       "      <th>3560</th>\n",
       "      <td>G0600010400300</td>\n",
       "      <td>06</td>\n",
       "      <td>001</td>\n",
       "      <td>400300</td>\n",
       "      <td>06001400300</td>\n",
       "      <td>4003</td>\n",
       "      <td>Census Tract 4003</td>\n",
       "      <td>G5020</td>\n",
       "      <td>S</td>\n",
       "      <td>1105851.0</td>\n",
       "      <td>0.0</td>\n",
       "      <td>+37.8405970</td>\n",
       "      <td>-122.2544404</td>\n",
       "      <td>5379.766389</td>\n",
       "      <td>1.105848e+06</td>\n",
       "      <td>POLYGON ((-122.25081 37.83714, -122.25084 37.8...</td>\n",
       "    </tr>\n",
       "    <tr>\n",
       "      <th>3561</th>\n",
       "      <td>G0600010400400</td>\n",
       "      <td>06</td>\n",
       "      <td>001</td>\n",
       "      <td>400400</td>\n",
       "      <td>06001400400</td>\n",
       "      <td>4004</td>\n",
       "      <td>Census Tract 4004</td>\n",
       "      <td>G5020</td>\n",
       "      <td>S</td>\n",
       "      <td>715616.0</td>\n",
       "      <td>0.0</td>\n",
       "      <td>+37.8482808</td>\n",
       "      <td>-122.2574478</td>\n",
       "      <td>3811.588815</td>\n",
       "      <td>7.156172e+05</td>\n",
       "      <td>POLYGON ((-122.25250 37.85083, -122.25245 37.8...</td>\n",
       "    </tr>\n",
       "    <tr>\n",
       "      <th>3562</th>\n",
       "      <td>G0600010400500</td>\n",
       "      <td>06</td>\n",
       "      <td>001</td>\n",
       "      <td>400500</td>\n",
       "      <td>06001400500</td>\n",
       "      <td>4005</td>\n",
       "      <td>Census Tract 4005</td>\n",
       "      <td>G5020</td>\n",
       "      <td>S</td>\n",
       "      <td>590307.0</td>\n",
       "      <td>0.0</td>\n",
       "      <td>+37.8485412</td>\n",
       "      <td>-122.2647277</td>\n",
       "      <td>3285.980185</td>\n",
       "      <td>5.903047e+05</td>\n",
       "      <td>POLYGON ((-122.26183 37.85258, -122.26151 37.8...</td>\n",
       "    </tr>\n",
       "  </tbody>\n",
       "</table>\n",
       "</div>"
      ],
      "text/plain": [
       "             GISJOIN STATEFP COUNTYFP TRACTCE        GEOID  NAME  \\\n",
       "3558  G0600010400100      06      001  400100  06001400100  4001   \n",
       "3559  G0600010400200      06      001  400200  06001400200  4002   \n",
       "3560  G0600010400300      06      001  400300  06001400300  4003   \n",
       "3561  G0600010400400      06      001  400400  06001400400  4004   \n",
       "3562  G0600010400500      06      001  400500  06001400500  4005   \n",
       "\n",
       "               NAMELSAD  MTFCC FUNCSTAT      ALAND  AWATER     INTPTLAT  \\\n",
       "3558  Census Tract 4001  G5020        S  6894340.0     0.0  +37.8676275   \n",
       "3559  Census Tract 4002  G5020        S   586561.0     0.0  +37.8481378   \n",
       "3560  Census Tract 4003  G5020        S  1105851.0     0.0  +37.8405970   \n",
       "3561  Census Tract 4004  G5020        S   715616.0     0.0  +37.8482808   \n",
       "3562  Census Tract 4005  G5020        S   590307.0     0.0  +37.8485412   \n",
       "\n",
       "          INTPTLON    Shape_Leng    Shape_Area  \\\n",
       "3558  -122.2319460  14302.720874  6.894336e+06   \n",
       "3559  -122.2495916   3990.699597  5.865614e+05   \n",
       "3560  -122.2544404   5379.766389  1.105848e+06   \n",
       "3561  -122.2574478   3811.588815  7.156172e+05   \n",
       "3562  -122.2647277   3285.980185  5.903047e+05   \n",
       "\n",
       "                                               geometry  \n",
       "3558  POLYGON ((-122.21320 37.85760, -122.21313 37.8...  \n",
       "3559  POLYGON ((-122.24191 37.85191, -122.24191 37.8...  \n",
       "3560  POLYGON ((-122.25081 37.83714, -122.25084 37.8...  \n",
       "3561  POLYGON ((-122.25250 37.85083, -122.25245 37.8...  \n",
       "3562  POLYGON ((-122.26183 37.85258, -122.26151 37.8...  "
      ]
     },
     "execution_count": 23,
     "metadata": {},
     "output_type": "execute_result"
    }
   ],
   "source": [
    "bay_area_tracts.head()"
   ]
  },
  {
   "cell_type": "code",
   "execution_count": 24,
   "metadata": {},
   "outputs": [],
   "source": [
    "bay_area_tracts.to_file(PROCESSED_DATA / 'bay_area_tracts.shp', index=False)"
   ]
  },
  {
   "cell_type": "code",
   "execution_count": 25,
   "metadata": {},
   "outputs": [
    {
     "name": "stdout",
     "output_type": "stream",
     "text": [
      "+ ../data/processed\n",
      "    + bay_area_2018_tracts.zip\n",
      "    + bay_area_tracts.cpg\n",
      "    + bay_area_tracts.dbf\n",
      "    + bay_area_tracts.prj\n",
      "    + bay_area_tracts.shp\n",
      "    + bay_area_tracts.shx\n"
     ]
    }
   ],
   "source": [
    "tree(PROCESSED_DATA)"
   ]
  },
  {
   "cell_type": "code",
   "execution_count": 26,
   "metadata": {},
   "outputs": [],
   "source": [
    "file_paths = PROCESSED_DATA.glob(\"bay_area_tracts.*\")\n",
    "# writing files to a zipfile \n",
    "with ZipFile(PROCESSED_DATA / 'bay_area_2018_tracts.zip','w') as bay_area_zip: \n",
    "    # writing each file one by one \n",
    "    for file in file_paths: \n",
    "        bay_area_zip.write(file) "
   ]
  },
  {
   "cell_type": "code",
   "execution_count": 27,
   "metadata": {},
   "outputs": [
    {
     "data": {
      "text/plain": [
       "[<ZipInfo filename='../data/processed/bay_area_tracts.prj' filemode='-rw-r--r--' file_size=145>,\n",
       " <ZipInfo filename='../data/processed/bay_area_tracts.dbf' filemode='-rw-r--r--' file_size=1546128>,\n",
       " <ZipInfo filename='../data/processed/bay_area_tracts.shx' filemode='-rw-r--r--' file_size=12756>,\n",
       " <ZipInfo filename='../data/processed/bay_area_tracts.cpg' filemode='-rw-r--r--' file_size=10>,\n",
       " <ZipInfo filename='../data/processed/bay_area_tracts.shp' filemode='-rw-r--r--' file_size=9073812>]"
      ]
     },
     "execution_count": 27,
     "metadata": {},
     "output_type": "execute_result"
    }
   ],
   "source": [
    "ZipFile(PROCESSED_DATA / 'bay_area_2018_tracts.zip').filelist"
   ]
  }
 ],
 "metadata": {
  "kernelspec": {
   "display_name": "Python 3",
   "language": "python",
   "name": "python3"
  },
  "language_info": {
   "codemirror_mode": {
    "name": "ipython",
    "version": 3
   },
   "file_extension": ".py",
   "mimetype": "text/x-python",
   "name": "python",
   "nbconvert_exporter": "python",
   "pygments_lexer": "ipython3",
   "version": "3.8.2"
  }
 },
 "nbformat": 4,
 "nbformat_minor": 4
}
